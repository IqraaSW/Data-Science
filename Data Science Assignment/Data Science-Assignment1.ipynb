{
 "cells": [
  {
   "cell_type": "code",
   "execution_count": 3,
   "id": "82cc94f0",
   "metadata": {},
   "outputs": [
    {
     "name": "stdout",
     "output_type": "stream",
     "text": [
      "Twinkle, twinkle, little star, \n",
      "         How I wonder what you are! \n",
      "                Up above the world so high, \n",
      "                    Like a diamond in the sky. \n",
      " Twinkle, twinkle little star, \n",
      "         How I wonder what you are!\n"
     ]
    }
   ],
   "source": [
    "# Data Science Assignment 1\n",
    "#1. Write a Python program to print the following string in a specific format (see the\n",
    "#   output).\n",
    "\n",
    "    #Twinkle, twinkle, little star,\n",
    "    #           How I wonder what you are!\n",
    "    #                   Up above the world so high,\n",
    "    #                   Like a diamond in the sky.\n",
    "\n",
    "    #Twinkle, twinkle, little star,\n",
    "              #How I wonder what you are\n",
    "print(\"Twinkle, twinkle, little star, \\n         How I wonder what you are! \\n                Up above the world so high, \\n                    Like a diamond in the sky. \\n Twinkle, twinkle little star, \\n         How I wonder what you are!\")\n",
    "    \n",
    " "
   ]
  },
  {
   "cell_type": "code",
   "execution_count": 4,
   "id": "cb7ade26",
   "metadata": {},
   "outputs": [
    {
     "name": "stdout",
     "output_type": "stream",
     "text": [
      "3.8.8\n"
     ]
    }
   ],
   "source": [
    "#2. Write a Python program to get the Python version you are using\n",
    "from platform import python_version\n",
    "print(python_version());"
   ]
  },
  {
   "cell_type": "code",
   "execution_count": 5,
   "id": "a83ba9a8",
   "metadata": {},
   "outputs": [
    {
     "name": "stdout",
     "output_type": "stream",
     "text": [
      "Current date and time:2021-45-30 04:45:48\n"
     ]
    }
   ],
   "source": [
    "#3. Write a Python program to display the current date and time.\n",
    "\n",
    "import datetime\n",
    "now=datetime.datetime.now()\n",
    "print(\"Current date and time:\"+ now.strftime(\"%Y-%M-%d %H:%M:%S\"));"
   ]
  },
  {
   "cell_type": "code",
   "execution_count": 6,
   "id": "92fa15ff",
   "metadata": {},
   "outputs": [
    {
     "name": "stdout",
     "output_type": "stream",
     "text": [
      "raduis of circle:3.2\n",
      "The area of radius of circle  3.2 is 32.169908772759484\n"
     ]
    }
   ],
   "source": [
    "#4. Write a Python program which accepts the radius of a circle from the user and compute\n",
    "#   the area.\n",
    "from math import pi\n",
    "r=float(input(\"raduis of circle:\"))\n",
    "print(\"The area of radius of circle  \" + str(r)+\" is \"+str(pi*r**2));"
   ]
  },
  {
   "cell_type": "code",
   "execution_count": 9,
   "id": "800b7ac5",
   "metadata": {},
   "outputs": [
    {
     "name": "stdout",
     "output_type": "stream",
     "text": [
      "enter value1 \n",
      "1\n",
      "enter value2  \n",
      "2\n",
      "Output\n",
      "3\n"
     ]
    }
   ],
   "source": [
    "#6. Write a python program which takes two inputs from user and print them addition\n",
    "\n",
    "x=int(input(\"enter value1 \\n\"))\n",
    "y=int(input(\"enter value2  \\n\"))\n",
    "z=x+y;\n",
    "print(\"Output\")\n",
    "print(z)"
   ]
  },
  {
   "cell_type": "code",
   "execution_count": 10,
   "id": "548206c0",
   "metadata": {},
   "outputs": [
    {
     "name": "stdout",
     "output_type": "stream",
     "text": [
      "Grade A+\n"
     ]
    }
   ],
   "source": [
    "#7. Write a program which takes 5 inputs from user for different subject’s marks, total it\n",
    "#   and generate mark sheet using grades ?\n",
    "\n",
    "DSA=90\n",
    "MAD=89\n",
    "TBW=98\n",
    "SPM=79\n",
    "DS=89\n",
    "total=500\n",
    "percent=(DSA+MAD+TBW+SPM+DS)/total*100\n",
    "if percent<100 and percent>80:\n",
    "    print(\"Grade A+\")\n",
    "elif percent<80 and percent>70:\n",
    "    print(\"Grade A\")\n",
    "elif percent<70 and percent>60:\n",
    "    print(\"Grade B\")\n",
    "elif percent<60 and percent>50:\n",
    "    print(\"Grade C\")\n",
    "elif percent<50 and percent>40:\n",
    "    print(\"Grade D\")\n",
    "elif percent<40 and percent>=33:\n",
    "    print(\"Grade E\")\n",
    "elif percent<0 and percent>100:\n",
    "    print(\"You did not ertite percent properly\")\n",
    "else:\n",
    "    print(\"Something wrong!\")"
   ]
  },
  {
   "cell_type": "code",
   "execution_count": 11,
   "id": "f6e7a2a9",
   "metadata": {},
   "outputs": [
    {
     "name": "stdout",
     "output_type": "stream",
     "text": [
      "Object `odd` not found.\n",
      "Enter the number54\n",
      "Number is  Even\n"
     ]
    }
   ],
   "source": [
    "#8. Write a program which take input from user and identify that the given number is even\n",
    "or odd?\n",
    "def find(num):\n",
    "    if num%2 == 0:\n",
    "        numtype=\"Even\"\n",
    "    else:\n",
    "        numtype=\"Odd\"\n",
    "    return numtype\n",
    "num=int(input(\"Enter the number\"))\n",
    "numtype=find(num)\n",
    "print(\"Number is  \"+ numtype)"
   ]
  },
  {
   "cell_type": "code",
   "execution_count": 12,
   "id": "966fe5fd",
   "metadata": {},
   "outputs": [
    {
     "name": "stdout",
     "output_type": "stream",
     "text": [
      "9\n"
     ]
    }
   ],
   "source": [
    "#9. Write a program which print the length of the list?\n",
    "arr=[\"Iqra\",\"Mahrukh\",\"Unza\",\"Rabia\",\"Neha\",\"Hafsa\",\"Tehreem\",\"Quratualin\",\"Tazeem\"]\n",
    "print(len(arr));"
   ]
  },
  {
   "cell_type": "code",
   "execution_count": 13,
   "id": "9b12d7bf",
   "metadata": {},
   "outputs": [
    {
     "name": "stdout",
     "output_type": "stream",
     "text": [
      "21\n"
     ]
    }
   ],
   "source": [
    "#10. Write a Python program to sum all the numeric items in a list?\n",
    "aa=[1,2,3,4,5,6]\n",
    "arr=aa[0]+aa[1]+aa[2]+aa[3]+aa[4]+aa[5]\n",
    "print(arr)"
   ]
  },
  {
   "cell_type": "code",
   "execution_count": 14,
   "id": "6b1ccdf7",
   "metadata": {},
   "outputs": [
    {
     "name": "stdout",
     "output_type": "stream",
     "text": [
      "Largest element is: 99\n"
     ]
    }
   ],
   "source": [
    "#11. Write a Python program to get the largest number from a numeric list.\n",
    "list1 = [10, 20, 4, 45, 99]\n",
    "list1.sort()\n",
    "print(\"Largest element is:\", list1[-1])"
   ]
  },
  {
   "cell_type": "code",
   "execution_count": 15,
   "id": "7aed8a9c",
   "metadata": {},
   "outputs": [
    {
     "name": "stdout",
     "output_type": "stream",
     "text": [
      "[1, 1, 2, 3]\n"
     ]
    }
   ],
   "source": [
    "#12. Take a list, say for example this one:\n",
    "#    a = [1, 1, 2, 3, 5, 8, 13, 21, 34, 55, 89]\n",
    "#    Write a program that prints out all the elements of the list that are less than 5.\n",
    "\n",
    "a=[1,1,2,3,5,8,13,21,34,55,89]\n",
    "x=list(filter(lambda k:k<5,a))\n",
    "print(x)"
   ]
  },
  {
   "cell_type": "code",
   "execution_count": null,
   "id": "e318dd7b",
   "metadata": {},
   "outputs": [],
   "source": []
  }
 ],
 "metadata": {
  "kernelspec": {
   "display_name": "Python 3",
   "language": "python",
   "name": "python3"
  },
  "language_info": {
   "codemirror_mode": {
    "name": "ipython",
    "version": 3
   },
   "file_extension": ".py",
   "mimetype": "text/x-python",
   "name": "python",
   "nbconvert_exporter": "python",
   "pygments_lexer": "ipython3",
   "version": "3.8.8"
  }
 },
 "nbformat": 4,
 "nbformat_minor": 5
}
